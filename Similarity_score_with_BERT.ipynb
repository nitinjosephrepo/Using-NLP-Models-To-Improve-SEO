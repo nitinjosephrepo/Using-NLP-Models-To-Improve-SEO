{
  "cells": [
    {
      "cell_type": "code",
      "execution_count": 10,
      "metadata": {
        "id": "Hsq2R7XfDfKj"
      },
      "outputs": [],
      "source": [
        "#Install Goose3\n",
        "#Install Sentence_transformers\n",
        "\n",
        "from sentence_transformers import SentenceTransformer\n",
        "import re\n",
        "import nltk\n",
        "import string\n",
        "import numpy as np\n",
        "import networkx as nx\n",
        "from nltk.cluster.util import cosine_distance\n",
        "import scipy\n",
        "from sentence_transformers import SentenceTransformer, util\n",
        "from goose3 import Goose\n",
        "import pandas as pd"
      ]
    },
    {
      "cell_type": "markdown",
      "metadata": {
        "id": "Cz7BlT8fUpdo"
      },
      "source": [
        "## Function to compare 2 article pages (e.g Url1 vs Url2)"
      ]
    },
    {
      "cell_type": "code",
      "execution_count": 11,
      "metadata": {
        "id": "LtNSJtC8Updq"
      },
      "outputs": [],
      "source": [
        "url1 = 'https://fraserviewvet.ca/your-pet-should-be-doing-these-daily-exercises-to-stay-healthy/' # insert the first URL\n",
        "url2 = 'https://fraserviewvet.ca/5-pet-hazards-to-be-aware-of-this-holiday-season/' # Insert the second URL"
      ]
    },
    {
      "cell_type": "code",
      "execution_count": 12,
      "metadata": {
        "id": "PfJEq0ELUpdp"
      },
      "outputs": [],
      "source": [
        "#Comparing just two URLS\n",
        "def Two_URL_text_comparison (url1,url2):\n",
        "    model = SentenceTransformer('bert-base-nli-mean-tokens')\n",
        "    g = Goose()\n",
        "    url1 = url1\n",
        "    article1 = g.extract(url1)\n",
        "    url2 = url2\n",
        "    article2 = g.extract(url2)\n",
        "    sentence1_representation = model.encode(article1.cleaned_text.replace(\"\\n\",\" \"))\n",
        "    sentence2_representation = model.encode(article2.cleaned_text.replace(\"\\n\",\" \"))\n",
        "    cosine_sim = util.pytorch_cos_sim(sentence1_representation,sentence2_representation)\n",
        "    result = 'The cosine_sim for : ' + url1 + ' and ' + url2+ ' ' + 'is' + \" = \" + str(cosine_sim)\n",
        "    print(result)\n",
        "    return cosine_sim"
      ]
    },
    {
      "cell_type": "markdown",
      "source": [],
      "metadata": {
        "id": "q0_CxLvngo58"
      }
    },
    {
      "cell_type": "markdown",
      "source": [
        "# Compare Two Pages\n"
      ],
      "metadata": {
        "id": "zwhYksJueNET"
      }
    },
    {
      "cell_type": "code",
      "execution_count": 13,
      "metadata": {
        "id": "4uCJ820MHPf7",
        "colab": {
          "base_uri": "https://localhost:8080/"
        },
        "outputId": "ff00c17d-537d-43a1-c451-780734076e61"
      },
      "outputs": [
        {
          "output_type": "stream",
          "name": "stdout",
          "text": [
            "The cosine_sim for : https://fraserviewvet.ca/your-pet-should-be-doing-these-daily-exercises-to-stay-healthy/ and https://fraserviewvet.ca/5-pet-hazards-to-be-aware-of-this-holiday-season/ is = tensor([[0.5772]])\n"
          ]
        }
      ],
      "source": [
        "cosine_sim = Two_URL_text_comparison(url1,url2) #run the model"
      ]
    },
    {
      "cell_type": "markdown",
      "source": [
        "Base on BERT, cosine similarity between two articles is 0.5772"
      ],
      "metadata": {
        "id": "Y48v57l7eY8C"
      }
    },
    {
      "cell_type": "markdown",
      "metadata": {
        "id": "oE4erTSdUpdr"
      },
      "source": [
        "## Comparing Multiple Pages"
      ]
    },
    {
      "cell_type": "code",
      "execution_count": 14,
      "metadata": {
        "id": "FYR3HItrUpds"
      },
      "outputs": [],
      "source": [
        "# function to compare multiple URLs\n",
        "def multible_url_comparison (lsit_of_urls):\n",
        "    result_data = pd.DataFrame(index = lsit_of_urls)\n",
        "    model = SentenceTransformer('bert-base-nli-mean-tokens')\n",
        "    g = Goose()\n",
        "    for url1 in lsit_of_urls:\n",
        "        url_cosine_sim = list()\n",
        "        for url2 in lsit_of_urls:\n",
        "            article1 = g.extract(url1)\n",
        "            article2 = g.extract(url2)\n",
        "            sentence1_representation = model.encode(article1.cleaned_text.replace(\"\\n\",\" \"))\n",
        "            sentence2_representation = model.encode(article2.cleaned_text.replace(\"\\n\",\" \"))\n",
        "            cosine_sim = util.pytorch_cos_sim(sentence1_representation,sentence2_representation)\n",
        "            url_cosine_sim.append(cosine_sim)\n",
        "        result_data[url1]= url_cosine_sim\n",
        "        result_data_array = result_data.to_numpy()\n",
        "    return result_data "
      ]
    },
    {
      "cell_type": "code",
      "execution_count": 15,
      "metadata": {
        "id": "nLf4gDZPUpdt"
      },
      "outputs": [],
      "source": [
        "#insert a list of Url's for Comparison\n",
        "lsit_of_urls = ['https://fraserviewvet.ca/5-pet-hazards-to-be-aware-of-this-holiday-season/',\n",
        "                'https://fraserviewvet.ca/ways-to-keep-your-pet-entertained-this-winter/',\n",
        "                'https://fraserviewvet.ca/3-reasons-why-regular-pet-grooming-is-essential/',\n",
        "                'https://fraserviewvet.ca/follow-these-steps-to-ensure-pet-obesity-is-not-a-problem-for-your-pet/',\n",
        "                'https://fraserviewvet.ca/5-signs-your-pet-is-in-pain/',\n",
        "                'https://fraserviewvet.ca/suggestions-for-keeping-your-deaf-dog-safe/']"
      ]
    },
    {
      "cell_type": "code",
      "execution_count": 16,
      "metadata": {
        "colab": {
          "base_uri": "https://localhost:8080/",
          "height": 684
        },
        "id": "rvGAb4t3Updu",
        "outputId": "ed59a51a-a87c-495a-e96f-900c463fd35f"
      },
      "outputs": [
        {
          "output_type": "execute_result",
          "data": {
            "text/plain": [
              "                                                   https://fraserviewvet.ca/5-pet-hazards-to-be-aware-of-this-holiday-season/  \\\n",
              "https://fraserviewvet.ca/5-pet-hazards-to-be-aw...                                 [[tensor(1.0000)]]                           \n",
              "https://fraserviewvet.ca/ways-to-keep-your-pet-...                                 [[tensor(0.7880)]]                           \n",
              "https://fraserviewvet.ca/3-reasons-why-regular-...                                 [[tensor(0.7372)]]                           \n",
              "https://fraserviewvet.ca/follow-these-steps-to-...                                 [[tensor(0.7354)]]                           \n",
              "https://fraserviewvet.ca/5-signs-your-pet-is-in...                                 [[tensor(0.7650)]]                           \n",
              "https://fraserviewvet.ca/suggestions-for-keepin...                                 [[tensor(0.6969)]]                           \n",
              "\n",
              "                                                   https://fraserviewvet.ca/ways-to-keep-your-pet-entertained-this-winter/  \\\n",
              "https://fraserviewvet.ca/5-pet-hazards-to-be-aw...                                 [[tensor(0.7880)]]                        \n",
              "https://fraserviewvet.ca/ways-to-keep-your-pet-...                                 [[tensor(1.0000)]]                        \n",
              "https://fraserviewvet.ca/3-reasons-why-regular-...                                 [[tensor(0.8075)]]                        \n",
              "https://fraserviewvet.ca/follow-these-steps-to-...                                 [[tensor(0.6539)]]                        \n",
              "https://fraserviewvet.ca/5-signs-your-pet-is-in...                                 [[tensor(0.7017)]]                        \n",
              "https://fraserviewvet.ca/suggestions-for-keepin...                                 [[tensor(0.6833)]]                        \n",
              "\n",
              "                                                   https://fraserviewvet.ca/3-reasons-why-regular-pet-grooming-is-essential/  \\\n",
              "https://fraserviewvet.ca/5-pet-hazards-to-be-aw...                                 [[tensor(0.7372)]]                          \n",
              "https://fraserviewvet.ca/ways-to-keep-your-pet-...                                 [[tensor(0.8075)]]                          \n",
              "https://fraserviewvet.ca/3-reasons-why-regular-...                                 [[tensor(1.0000)]]                          \n",
              "https://fraserviewvet.ca/follow-these-steps-to-...                                 [[tensor(0.7384)]]                          \n",
              "https://fraserviewvet.ca/5-signs-your-pet-is-in...                                 [[tensor(0.8284)]]                          \n",
              "https://fraserviewvet.ca/suggestions-for-keepin...                                 [[tensor(0.7534)]]                          \n",
              "\n",
              "                                                   https://fraserviewvet.ca/follow-these-steps-to-ensure-pet-obesity-is-not-a-problem-for-your-pet/  \\\n",
              "https://fraserviewvet.ca/5-pet-hazards-to-be-aw...                                 [[tensor(0.7354)]]                                                 \n",
              "https://fraserviewvet.ca/ways-to-keep-your-pet-...                                 [[tensor(0.6539)]]                                                 \n",
              "https://fraserviewvet.ca/3-reasons-why-regular-...                                 [[tensor(0.7384)]]                                                 \n",
              "https://fraserviewvet.ca/follow-these-steps-to-...                                 [[tensor(1.0000)]]                                                 \n",
              "https://fraserviewvet.ca/5-signs-your-pet-is-in...                                 [[tensor(0.7498)]]                                                 \n",
              "https://fraserviewvet.ca/suggestions-for-keepin...                                 [[tensor(0.7317)]]                                                 \n",
              "\n",
              "                                                   https://fraserviewvet.ca/5-signs-your-pet-is-in-pain/  \\\n",
              "https://fraserviewvet.ca/5-pet-hazards-to-be-aw...                                 [[tensor(0.7650)]]      \n",
              "https://fraserviewvet.ca/ways-to-keep-your-pet-...                                 [[tensor(0.7017)]]      \n",
              "https://fraserviewvet.ca/3-reasons-why-regular-...                                 [[tensor(0.8284)]]      \n",
              "https://fraserviewvet.ca/follow-these-steps-to-...                                 [[tensor(0.7498)]]      \n",
              "https://fraserviewvet.ca/5-signs-your-pet-is-in...                                     [[tensor(1.)]]      \n",
              "https://fraserviewvet.ca/suggestions-for-keepin...                                 [[tensor(0.7686)]]      \n",
              "\n",
              "                                                   https://fraserviewvet.ca/suggestions-for-keeping-your-deaf-dog-safe/  \n",
              "https://fraserviewvet.ca/5-pet-hazards-to-be-aw...                                 [[tensor(0.6969)]]                    \n",
              "https://fraserviewvet.ca/ways-to-keep-your-pet-...                                 [[tensor(0.6833)]]                    \n",
              "https://fraserviewvet.ca/3-reasons-why-regular-...                                 [[tensor(0.7534)]]                    \n",
              "https://fraserviewvet.ca/follow-these-steps-to-...                                 [[tensor(0.7317)]]                    \n",
              "https://fraserviewvet.ca/5-signs-your-pet-is-in...                                 [[tensor(0.7686)]]                    \n",
              "https://fraserviewvet.ca/suggestions-for-keepin...                                     [[tensor(1.)]]                    "
            ],
            "text/html": [
              "\n",
              "  <div id=\"df-6ba28807-b9af-4d07-94a1-07725842bd11\">\n",
              "    <div class=\"colab-df-container\">\n",
              "      <div>\n",
              "<style scoped>\n",
              "    .dataframe tbody tr th:only-of-type {\n",
              "        vertical-align: middle;\n",
              "    }\n",
              "\n",
              "    .dataframe tbody tr th {\n",
              "        vertical-align: top;\n",
              "    }\n",
              "\n",
              "    .dataframe thead th {\n",
              "        text-align: right;\n",
              "    }\n",
              "</style>\n",
              "<table border=\"1\" class=\"dataframe\">\n",
              "  <thead>\n",
              "    <tr style=\"text-align: right;\">\n",
              "      <th></th>\n",
              "      <th>https://fraserviewvet.ca/5-pet-hazards-to-be-aware-of-this-holiday-season/</th>\n",
              "      <th>https://fraserviewvet.ca/ways-to-keep-your-pet-entertained-this-winter/</th>\n",
              "      <th>https://fraserviewvet.ca/3-reasons-why-regular-pet-grooming-is-essential/</th>\n",
              "      <th>https://fraserviewvet.ca/follow-these-steps-to-ensure-pet-obesity-is-not-a-problem-for-your-pet/</th>\n",
              "      <th>https://fraserviewvet.ca/5-signs-your-pet-is-in-pain/</th>\n",
              "      <th>https://fraserviewvet.ca/suggestions-for-keeping-your-deaf-dog-safe/</th>\n",
              "    </tr>\n",
              "  </thead>\n",
              "  <tbody>\n",
              "    <tr>\n",
              "      <th>https://fraserviewvet.ca/5-pet-hazards-to-be-aware-of-this-holiday-season/</th>\n",
              "      <td>[[tensor(1.0000)]]</td>\n",
              "      <td>[[tensor(0.7880)]]</td>\n",
              "      <td>[[tensor(0.7372)]]</td>\n",
              "      <td>[[tensor(0.7354)]]</td>\n",
              "      <td>[[tensor(0.7650)]]</td>\n",
              "      <td>[[tensor(0.6969)]]</td>\n",
              "    </tr>\n",
              "    <tr>\n",
              "      <th>https://fraserviewvet.ca/ways-to-keep-your-pet-entertained-this-winter/</th>\n",
              "      <td>[[tensor(0.7880)]]</td>\n",
              "      <td>[[tensor(1.0000)]]</td>\n",
              "      <td>[[tensor(0.8075)]]</td>\n",
              "      <td>[[tensor(0.6539)]]</td>\n",
              "      <td>[[tensor(0.7017)]]</td>\n",
              "      <td>[[tensor(0.6833)]]</td>\n",
              "    </tr>\n",
              "    <tr>\n",
              "      <th>https://fraserviewvet.ca/3-reasons-why-regular-pet-grooming-is-essential/</th>\n",
              "      <td>[[tensor(0.7372)]]</td>\n",
              "      <td>[[tensor(0.8075)]]</td>\n",
              "      <td>[[tensor(1.0000)]]</td>\n",
              "      <td>[[tensor(0.7384)]]</td>\n",
              "      <td>[[tensor(0.8284)]]</td>\n",
              "      <td>[[tensor(0.7534)]]</td>\n",
              "    </tr>\n",
              "    <tr>\n",
              "      <th>https://fraserviewvet.ca/follow-these-steps-to-ensure-pet-obesity-is-not-a-problem-for-your-pet/</th>\n",
              "      <td>[[tensor(0.7354)]]</td>\n",
              "      <td>[[tensor(0.6539)]]</td>\n",
              "      <td>[[tensor(0.7384)]]</td>\n",
              "      <td>[[tensor(1.0000)]]</td>\n",
              "      <td>[[tensor(0.7498)]]</td>\n",
              "      <td>[[tensor(0.7317)]]</td>\n",
              "    </tr>\n",
              "    <tr>\n",
              "      <th>https://fraserviewvet.ca/5-signs-your-pet-is-in-pain/</th>\n",
              "      <td>[[tensor(0.7650)]]</td>\n",
              "      <td>[[tensor(0.7017)]]</td>\n",
              "      <td>[[tensor(0.8284)]]</td>\n",
              "      <td>[[tensor(0.7498)]]</td>\n",
              "      <td>[[tensor(1.)]]</td>\n",
              "      <td>[[tensor(0.7686)]]</td>\n",
              "    </tr>\n",
              "    <tr>\n",
              "      <th>https://fraserviewvet.ca/suggestions-for-keeping-your-deaf-dog-safe/</th>\n",
              "      <td>[[tensor(0.6969)]]</td>\n",
              "      <td>[[tensor(0.6833)]]</td>\n",
              "      <td>[[tensor(0.7534)]]</td>\n",
              "      <td>[[tensor(0.7317)]]</td>\n",
              "      <td>[[tensor(0.7686)]]</td>\n",
              "      <td>[[tensor(1.)]]</td>\n",
              "    </tr>\n",
              "  </tbody>\n",
              "</table>\n",
              "</div>\n",
              "      <button class=\"colab-df-convert\" onclick=\"convertToInteractive('df-6ba28807-b9af-4d07-94a1-07725842bd11')\"\n",
              "              title=\"Convert this dataframe to an interactive table.\"\n",
              "              style=\"display:none;\">\n",
              "        \n",
              "  <svg xmlns=\"http://www.w3.org/2000/svg\" height=\"24px\"viewBox=\"0 0 24 24\"\n",
              "       width=\"24px\">\n",
              "    <path d=\"M0 0h24v24H0V0z\" fill=\"none\"/>\n",
              "    <path d=\"M18.56 5.44l.94 2.06.94-2.06 2.06-.94-2.06-.94-.94-2.06-.94 2.06-2.06.94zm-11 1L8.5 8.5l.94-2.06 2.06-.94-2.06-.94L8.5 2.5l-.94 2.06-2.06.94zm10 10l.94 2.06.94-2.06 2.06-.94-2.06-.94-.94-2.06-.94 2.06-2.06.94z\"/><path d=\"M17.41 7.96l-1.37-1.37c-.4-.4-.92-.59-1.43-.59-.52 0-1.04.2-1.43.59L10.3 9.45l-7.72 7.72c-.78.78-.78 2.05 0 2.83L4 21.41c.39.39.9.59 1.41.59.51 0 1.02-.2 1.41-.59l7.78-7.78 2.81-2.81c.8-.78.8-2.07 0-2.86zM5.41 20L4 18.59l7.72-7.72 1.47 1.35L5.41 20z\"/>\n",
              "  </svg>\n",
              "      </button>\n",
              "      \n",
              "  <style>\n",
              "    .colab-df-container {\n",
              "      display:flex;\n",
              "      flex-wrap:wrap;\n",
              "      gap: 12px;\n",
              "    }\n",
              "\n",
              "    .colab-df-convert {\n",
              "      background-color: #E8F0FE;\n",
              "      border: none;\n",
              "      border-radius: 50%;\n",
              "      cursor: pointer;\n",
              "      display: none;\n",
              "      fill: #1967D2;\n",
              "      height: 32px;\n",
              "      padding: 0 0 0 0;\n",
              "      width: 32px;\n",
              "    }\n",
              "\n",
              "    .colab-df-convert:hover {\n",
              "      background-color: #E2EBFA;\n",
              "      box-shadow: 0px 1px 2px rgba(60, 64, 67, 0.3), 0px 1px 3px 1px rgba(60, 64, 67, 0.15);\n",
              "      fill: #174EA6;\n",
              "    }\n",
              "\n",
              "    [theme=dark] .colab-df-convert {\n",
              "      background-color: #3B4455;\n",
              "      fill: #D2E3FC;\n",
              "    }\n",
              "\n",
              "    [theme=dark] .colab-df-convert:hover {\n",
              "      background-color: #434B5C;\n",
              "      box-shadow: 0px 1px 3px 1px rgba(0, 0, 0, 0.15);\n",
              "      filter: drop-shadow(0px 1px 2px rgba(0, 0, 0, 0.3));\n",
              "      fill: #FFFFFF;\n",
              "    }\n",
              "  </style>\n",
              "\n",
              "      <script>\n",
              "        const buttonEl =\n",
              "          document.querySelector('#df-6ba28807-b9af-4d07-94a1-07725842bd11 button.colab-df-convert');\n",
              "        buttonEl.style.display =\n",
              "          google.colab.kernel.accessAllowed ? 'block' : 'none';\n",
              "\n",
              "        async function convertToInteractive(key) {\n",
              "          const element = document.querySelector('#df-6ba28807-b9af-4d07-94a1-07725842bd11');\n",
              "          const dataTable =\n",
              "            await google.colab.kernel.invokeFunction('convertToInteractive',\n",
              "                                                     [key], {});\n",
              "          if (!dataTable) return;\n",
              "\n",
              "          const docLinkHtml = 'Like what you see? Visit the ' +\n",
              "            '<a target=\"_blank\" href=https://colab.research.google.com/notebooks/data_table.ipynb>data table notebook</a>'\n",
              "            + ' to learn more about interactive tables.';\n",
              "          element.innerHTML = '';\n",
              "          dataTable['output_type'] = 'display_data';\n",
              "          await google.colab.output.renderOutput(dataTable, element);\n",
              "          const docLink = document.createElement('div');\n",
              "          docLink.innerHTML = docLinkHtml;\n",
              "          element.appendChild(docLink);\n",
              "        }\n",
              "      </script>\n",
              "    </div>\n",
              "  </div>\n",
              "  "
            ]
          },
          "metadata": {},
          "execution_count": 16
        }
      ],
      "source": [
        "result_data = multible_url_comparison(lsit_of_urls) #run the model\n",
        "result_data"
      ]
    },
    {
      "cell_type": "code",
      "source": [],
      "metadata": {
        "id": "Xd_915lZ6hw4"
      },
      "execution_count": null,
      "outputs": []
    }
  ],
  "metadata": {
    "accelerator": "GPU",
    "colab": {
      "provenance": []
    },
    "gpuClass": "standard",
    "kernelspec": {
      "display_name": "Python 3",
      "language": "python",
      "name": "python3"
    },
    "language_info": {
      "codemirror_mode": {
        "name": "ipython",
        "version": 3
      },
      "file_extension": ".py",
      "mimetype": "text/x-python",
      "name": "python",
      "nbconvert_exporter": "python",
      "pygments_lexer": "ipython3",
      "version": "3.8.3"
    }
  },
  "nbformat": 4,
  "nbformat_minor": 0
}